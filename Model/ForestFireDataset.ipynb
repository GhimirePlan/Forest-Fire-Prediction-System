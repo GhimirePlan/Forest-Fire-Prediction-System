{
 "cells": [
  {
   "cell_type": "code",
   "id": "00f87cbc-a710-4e8a-a6b7-7c3e24c41988",
   "metadata": {
    "ExecuteTime": {
     "end_time": "2025-05-14T14:34:50.411300Z",
     "start_time": "2025-05-14T14:34:50.408300Z"
    }
   },
   "source": [
    "from dataclasses import replace\n",
    "\n",
    "import pandas as pd\n",
    "import seaborn as sns\n",
    "import numpy as np\n"
   ],
   "outputs": [],
   "execution_count": 1
  },
  {
   "cell_type": "code",
   "id": "5a4a8ded-b834-4b35-ad06-0d0058cd311b",
   "metadata": {
    "ExecuteTime": {
     "end_time": "2025-05-14T14:34:50.473291Z",
     "start_time": "2025-05-14T14:34:50.465054Z"
    }
   },
   "source": "df = pd.read_csv('Algerian_forest_fires_dataset.csv')",
   "outputs": [],
   "execution_count": 2
  },
  {
   "metadata": {
    "ExecuteTime": {
     "end_time": "2025-05-14T14:34:50.499725Z",
     "start_time": "2025-05-14T14:34:50.488820Z"
    }
   },
   "cell_type": "code",
   "source": "df.head()",
   "id": "e9542cfdc9f0d16",
   "outputs": [
    {
     "data": {
      "text/plain": [
       "  day month  year Temperature  RH  Ws Rain   FFMC  DMC    DC  ISI  BUI  FWI  \\\n",
       "0   1     6  2012          29  57  18     0  65.7  3.4   7.6  1.3  3.4  0.5   \n",
       "1   2     6  2012          29  61  13   1.3  64.4  4.1   7.6    1  3.9  0.4   \n",
       "2   3     6  2012          26  82  22  13.1  47.1  2.5   7.1  0.3  2.7  0.1   \n",
       "3   4     6  2012          25  89  13   2.5  28.6  1.3   6.9    0  1.7    0   \n",
       "4   5     6  2012          27  77  16     0  64.8    3  14.2  1.2  3.9  0.5   \n",
       "\n",
       "     Classes    \n",
       "0  not fire     \n",
       "1  not fire     \n",
       "2  not fire     \n",
       "3  not fire     \n",
       "4  not fire     "
      ],
      "text/html": [
       "<div>\n",
       "<style scoped>\n",
       "    .dataframe tbody tr th:only-of-type {\n",
       "        vertical-align: middle;\n",
       "    }\n",
       "\n",
       "    .dataframe tbody tr th {\n",
       "        vertical-align: top;\n",
       "    }\n",
       "\n",
       "    .dataframe thead th {\n",
       "        text-align: right;\n",
       "    }\n",
       "</style>\n",
       "<table border=\"1\" class=\"dataframe\">\n",
       "  <thead>\n",
       "    <tr style=\"text-align: right;\">\n",
       "      <th></th>\n",
       "      <th>day</th>\n",
       "      <th>month</th>\n",
       "      <th>year</th>\n",
       "      <th>Temperature</th>\n",
       "      <th>RH</th>\n",
       "      <th>Ws</th>\n",
       "      <th>Rain</th>\n",
       "      <th>FFMC</th>\n",
       "      <th>DMC</th>\n",
       "      <th>DC</th>\n",
       "      <th>ISI</th>\n",
       "      <th>BUI</th>\n",
       "      <th>FWI</th>\n",
       "      <th>Classes</th>\n",
       "    </tr>\n",
       "  </thead>\n",
       "  <tbody>\n",
       "    <tr>\n",
       "      <th>0</th>\n",
       "      <td>1</td>\n",
       "      <td>6</td>\n",
       "      <td>2012</td>\n",
       "      <td>29</td>\n",
       "      <td>57</td>\n",
       "      <td>18</td>\n",
       "      <td>0</td>\n",
       "      <td>65.7</td>\n",
       "      <td>3.4</td>\n",
       "      <td>7.6</td>\n",
       "      <td>1.3</td>\n",
       "      <td>3.4</td>\n",
       "      <td>0.5</td>\n",
       "      <td>not fire</td>\n",
       "    </tr>\n",
       "    <tr>\n",
       "      <th>1</th>\n",
       "      <td>2</td>\n",
       "      <td>6</td>\n",
       "      <td>2012</td>\n",
       "      <td>29</td>\n",
       "      <td>61</td>\n",
       "      <td>13</td>\n",
       "      <td>1.3</td>\n",
       "      <td>64.4</td>\n",
       "      <td>4.1</td>\n",
       "      <td>7.6</td>\n",
       "      <td>1</td>\n",
       "      <td>3.9</td>\n",
       "      <td>0.4</td>\n",
       "      <td>not fire</td>\n",
       "    </tr>\n",
       "    <tr>\n",
       "      <th>2</th>\n",
       "      <td>3</td>\n",
       "      <td>6</td>\n",
       "      <td>2012</td>\n",
       "      <td>26</td>\n",
       "      <td>82</td>\n",
       "      <td>22</td>\n",
       "      <td>13.1</td>\n",
       "      <td>47.1</td>\n",
       "      <td>2.5</td>\n",
       "      <td>7.1</td>\n",
       "      <td>0.3</td>\n",
       "      <td>2.7</td>\n",
       "      <td>0.1</td>\n",
       "      <td>not fire</td>\n",
       "    </tr>\n",
       "    <tr>\n",
       "      <th>3</th>\n",
       "      <td>4</td>\n",
       "      <td>6</td>\n",
       "      <td>2012</td>\n",
       "      <td>25</td>\n",
       "      <td>89</td>\n",
       "      <td>13</td>\n",
       "      <td>2.5</td>\n",
       "      <td>28.6</td>\n",
       "      <td>1.3</td>\n",
       "      <td>6.9</td>\n",
       "      <td>0</td>\n",
       "      <td>1.7</td>\n",
       "      <td>0</td>\n",
       "      <td>not fire</td>\n",
       "    </tr>\n",
       "    <tr>\n",
       "      <th>4</th>\n",
       "      <td>5</td>\n",
       "      <td>6</td>\n",
       "      <td>2012</td>\n",
       "      <td>27</td>\n",
       "      <td>77</td>\n",
       "      <td>16</td>\n",
       "      <td>0</td>\n",
       "      <td>64.8</td>\n",
       "      <td>3</td>\n",
       "      <td>14.2</td>\n",
       "      <td>1.2</td>\n",
       "      <td>3.9</td>\n",
       "      <td>0.5</td>\n",
       "      <td>not fire</td>\n",
       "    </tr>\n",
       "  </tbody>\n",
       "</table>\n",
       "</div>"
      ]
     },
     "execution_count": 3,
     "metadata": {},
     "output_type": "execute_result"
    }
   ],
   "execution_count": 3
  },
  {
   "metadata": {
    "ExecuteTime": {
     "end_time": "2025-05-14T14:34:50.531207Z",
     "start_time": "2025-05-14T14:34:50.524106Z"
    }
   },
   "cell_type": "code",
   "source": "df.isnull().sum()",
   "id": "57fe446256b8e",
   "outputs": [
    {
     "data": {
      "text/plain": [
       "day            1\n",
       "month          2\n",
       "year           2\n",
       "Temperature    2\n",
       " RH            2\n",
       " Ws            2\n",
       "Rain           2\n",
       "FFMC           2\n",
       "DMC            2\n",
       "DC             2\n",
       "ISI            2\n",
       "BUI            2\n",
       "FWI            2\n",
       "Classes        3\n",
       "dtype: int64"
      ]
     },
     "execution_count": 4,
     "metadata": {},
     "output_type": "execute_result"
    }
   ],
   "execution_count": 4
  },
  {
   "metadata": {
    "ExecuteTime": {
     "end_time": "2025-05-14T14:34:50.575745Z",
     "start_time": "2025-05-14T14:34:50.568744Z"
    }
   },
   "cell_type": "code",
   "source": "df.dropna(axis = 0, inplace = True)",
   "id": "4627ca6aad39329c",
   "outputs": [],
   "execution_count": 5
  },
  {
   "metadata": {
    "ExecuteTime": {
     "end_time": "2025-05-14T14:34:50.671480Z",
     "start_time": "2025-05-14T14:34:50.660479Z"
    }
   },
   "cell_type": "code",
   "source": "df.info()",
   "id": "795775a038ba3a23",
   "outputs": [
    {
     "name": "stdout",
     "output_type": "stream",
     "text": [
      "<class 'pandas.core.frame.DataFrame'>\n",
      "Index: 244 entries, 0 to 246\n",
      "Data columns (total 14 columns):\n",
      " #   Column       Non-Null Count  Dtype \n",
      "---  ------       --------------  ----- \n",
      " 0   day          244 non-null    object\n",
      " 1   month        244 non-null    object\n",
      " 2   year         244 non-null    object\n",
      " 3   Temperature  244 non-null    object\n",
      " 4    RH          244 non-null    object\n",
      " 5    Ws          244 non-null    object\n",
      " 6   Rain         244 non-null    object\n",
      " 7   FFMC         244 non-null    object\n",
      " 8   DMC          244 non-null    object\n",
      " 9   DC           244 non-null    object\n",
      " 10  ISI          244 non-null    object\n",
      " 11  BUI          244 non-null    object\n",
      " 12  FWI          244 non-null    object\n",
      " 13  Classes      244 non-null    object\n",
      "dtypes: object(14)\n",
      "memory usage: 28.6+ KB\n"
     ]
    }
   ],
   "execution_count": 6
  },
  {
   "metadata": {
    "ExecuteTime": {
     "end_time": "2025-05-14T14:34:50.833362Z",
     "start_time": "2025-05-14T14:34:50.829362Z"
    }
   },
   "cell_type": "code",
   "source": "df.columns",
   "id": "932fb9172f2e2a46",
   "outputs": [
    {
     "data": {
      "text/plain": [
       "Index(['day', 'month', 'year', 'Temperature', ' RH', ' Ws', 'Rain ', 'FFMC',\n",
       "       'DMC', 'DC', 'ISI', 'BUI', 'FWI', 'Classes  '],\n",
       "      dtype='object')"
      ]
     },
     "execution_count": 7,
     "metadata": {},
     "output_type": "execute_result"
    }
   ],
   "execution_count": 7
  },
  {
   "metadata": {
    "ExecuteTime": {
     "end_time": "2025-05-14T14:34:50.883092Z",
     "start_time": "2025-05-14T14:34:50.877722Z"
    }
   },
   "cell_type": "code",
   "source": "df.shape",
   "id": "7e3f5d2bc61ab196",
   "outputs": [
    {
     "data": {
      "text/plain": [
       "(244, 14)"
      ]
     },
     "execution_count": 8,
     "metadata": {},
     "output_type": "execute_result"
    }
   ],
   "execution_count": 8
  },
  {
   "metadata": {
    "ExecuteTime": {
     "end_time": "2025-05-14T14:34:50.938183Z",
     "start_time": "2025-05-14T14:34:50.932187Z"
    }
   },
   "cell_type": "code",
   "source": [
    "# Remove blank spaces from column headers\n",
    "df.columns = df.columns.str.strip()  # Removes leading/trailing spaces"
   ],
   "id": "131f0abd54ee4029",
   "outputs": [],
   "execution_count": 9
  },
  {
   "metadata": {
    "ExecuteTime": {
     "end_time": "2025-05-14T14:34:50.974294Z",
     "start_time": "2025-05-14T14:34:50.967964Z"
    }
   },
   "cell_type": "code",
   "source": "df.columns",
   "id": "ecdbca4c7347114b",
   "outputs": [
    {
     "data": {
      "text/plain": [
       "Index(['day', 'month', 'year', 'Temperature', 'RH', 'Ws', 'Rain', 'FFMC',\n",
       "       'DMC', 'DC', 'ISI', 'BUI', 'FWI', 'Classes'],\n",
       "      dtype='object')"
      ]
     },
     "execution_count": 10,
     "metadata": {},
     "output_type": "execute_result"
    }
   ],
   "execution_count": 10
  },
  {
   "metadata": {
    "ExecuteTime": {
     "end_time": "2025-05-14T14:34:51.035470Z",
     "start_time": "2025-05-14T14:34:51.022989Z"
    }
   },
   "cell_type": "code",
   "source": [
    "#errors='coerce': Converts invalid values (e.g., strings like \"abc\") to NaN.\n",
    "df['day'] = pd.to_numeric(df['day'], errors='coerce').astype('Int64')\n",
    "df['month'] = pd.to_numeric(df['month'], errors='coerce').astype('Int64')\n",
    "df['year'] = pd.to_numeric(df['year'], errors='coerce').astype('Int64')\n",
    "df['Temperature'] = pd.to_numeric(df['Temperature'], errors='coerce').astype('Int64')\n",
    "df['RH'] = pd.to_numeric(df['RH'], errors='coerce').astype('Int64')\n",
    "df['Ws'] = pd.to_numeric(df['Ws'], errors='coerce').astype('Int64')\n",
    "\n"
   ],
   "id": "c74bac758d618ec3",
   "outputs": [],
   "execution_count": 11
  },
  {
   "metadata": {
    "ExecuteTime": {
     "end_time": "2025-05-14T14:34:51.065818Z",
     "start_time": "2025-05-14T14:34:51.056896Z"
    }
   },
   "cell_type": "code",
   "source": "df.info()",
   "id": "ea895a65cb0f4d0a",
   "outputs": [
    {
     "name": "stdout",
     "output_type": "stream",
     "text": [
      "<class 'pandas.core.frame.DataFrame'>\n",
      "Index: 244 entries, 0 to 246\n",
      "Data columns (total 14 columns):\n",
      " #   Column       Non-Null Count  Dtype \n",
      "---  ------       --------------  ----- \n",
      " 0   day          243 non-null    Int64 \n",
      " 1   month        243 non-null    Int64 \n",
      " 2   year         243 non-null    Int64 \n",
      " 3   Temperature  243 non-null    Int64 \n",
      " 4   RH           243 non-null    Int64 \n",
      " 5   Ws           243 non-null    Int64 \n",
      " 6   Rain         244 non-null    object\n",
      " 7   FFMC         244 non-null    object\n",
      " 8   DMC          244 non-null    object\n",
      " 9   DC           244 non-null    object\n",
      " 10  ISI          244 non-null    object\n",
      " 11  BUI          244 non-null    object\n",
      " 12  FWI          244 non-null    object\n",
      " 13  Classes      244 non-null    object\n",
      "dtypes: Int64(6), object(8)\n",
      "memory usage: 30.0+ KB\n"
     ]
    }
   ],
   "execution_count": 12
  },
  {
   "metadata": {
    "ExecuteTime": {
     "end_time": "2025-05-14T14:34:51.098447Z",
     "start_time": "2025-05-14T14:34:51.088811Z"
    }
   },
   "cell_type": "code",
   "source": [
    "df['Rain'] = pd.to_numeric(df['day'], errors='coerce').astype('float')\n",
    "df['FFMC'] = pd.to_numeric(df['month'], errors='coerce').astype('float')\n",
    "df['DMC'] = pd.to_numeric(df['year'], errors='coerce').astype('float')\n",
    "df['DC'] = pd.to_numeric(df['Temperature'], errors='coerce').astype('float')\n",
    "df['ISI'] = pd.to_numeric(df['RH'], errors='coerce').astype('float')\n",
    "df['BUI'] = pd.to_numeric(df['Ws'], errors='coerce').astype('float')\n",
    "df['FWI'] = pd.to_numeric(df['day'], errors='coerce').astype('float')\n"
   ],
   "id": "815bc79b23ea40da",
   "outputs": [],
   "execution_count": 13
  },
  {
   "metadata": {
    "ExecuteTime": {
     "end_time": "2025-05-14T14:34:51.141417Z",
     "start_time": "2025-05-14T14:34:51.129417Z"
    }
   },
   "cell_type": "code",
   "source": "df.head()",
   "id": "5f4dfe2b758094e3",
   "outputs": [
    {
     "data": {
      "text/plain": [
       "   day  month  year  Temperature  RH  Ws  Rain  FFMC     DMC    DC   ISI  \\\n",
       "0    1      6  2012           29  57  18   1.0   6.0  2012.0  29.0  57.0   \n",
       "1    2      6  2012           29  61  13   2.0   6.0  2012.0  29.0  61.0   \n",
       "2    3      6  2012           26  82  22   3.0   6.0  2012.0  26.0  82.0   \n",
       "3    4      6  2012           25  89  13   4.0   6.0  2012.0  25.0  89.0   \n",
       "4    5      6  2012           27  77  16   5.0   6.0  2012.0  27.0  77.0   \n",
       "\n",
       "    BUI  FWI      Classes  \n",
       "0  18.0  1.0  not fire     \n",
       "1  13.0  2.0  not fire     \n",
       "2  22.0  3.0  not fire     \n",
       "3  13.0  4.0  not fire     \n",
       "4  16.0  5.0  not fire     "
      ],
      "text/html": [
       "<div>\n",
       "<style scoped>\n",
       "    .dataframe tbody tr th:only-of-type {\n",
       "        vertical-align: middle;\n",
       "    }\n",
       "\n",
       "    .dataframe tbody tr th {\n",
       "        vertical-align: top;\n",
       "    }\n",
       "\n",
       "    .dataframe thead th {\n",
       "        text-align: right;\n",
       "    }\n",
       "</style>\n",
       "<table border=\"1\" class=\"dataframe\">\n",
       "  <thead>\n",
       "    <tr style=\"text-align: right;\">\n",
       "      <th></th>\n",
       "      <th>day</th>\n",
       "      <th>month</th>\n",
       "      <th>year</th>\n",
       "      <th>Temperature</th>\n",
       "      <th>RH</th>\n",
       "      <th>Ws</th>\n",
       "      <th>Rain</th>\n",
       "      <th>FFMC</th>\n",
       "      <th>DMC</th>\n",
       "      <th>DC</th>\n",
       "      <th>ISI</th>\n",
       "      <th>BUI</th>\n",
       "      <th>FWI</th>\n",
       "      <th>Classes</th>\n",
       "    </tr>\n",
       "  </thead>\n",
       "  <tbody>\n",
       "    <tr>\n",
       "      <th>0</th>\n",
       "      <td>1</td>\n",
       "      <td>6</td>\n",
       "      <td>2012</td>\n",
       "      <td>29</td>\n",
       "      <td>57</td>\n",
       "      <td>18</td>\n",
       "      <td>1.0</td>\n",
       "      <td>6.0</td>\n",
       "      <td>2012.0</td>\n",
       "      <td>29.0</td>\n",
       "      <td>57.0</td>\n",
       "      <td>18.0</td>\n",
       "      <td>1.0</td>\n",
       "      <td>not fire</td>\n",
       "    </tr>\n",
       "    <tr>\n",
       "      <th>1</th>\n",
       "      <td>2</td>\n",
       "      <td>6</td>\n",
       "      <td>2012</td>\n",
       "      <td>29</td>\n",
       "      <td>61</td>\n",
       "      <td>13</td>\n",
       "      <td>2.0</td>\n",
       "      <td>6.0</td>\n",
       "      <td>2012.0</td>\n",
       "      <td>29.0</td>\n",
       "      <td>61.0</td>\n",
       "      <td>13.0</td>\n",
       "      <td>2.0</td>\n",
       "      <td>not fire</td>\n",
       "    </tr>\n",
       "    <tr>\n",
       "      <th>2</th>\n",
       "      <td>3</td>\n",
       "      <td>6</td>\n",
       "      <td>2012</td>\n",
       "      <td>26</td>\n",
       "      <td>82</td>\n",
       "      <td>22</td>\n",
       "      <td>3.0</td>\n",
       "      <td>6.0</td>\n",
       "      <td>2012.0</td>\n",
       "      <td>26.0</td>\n",
       "      <td>82.0</td>\n",
       "      <td>22.0</td>\n",
       "      <td>3.0</td>\n",
       "      <td>not fire</td>\n",
       "    </tr>\n",
       "    <tr>\n",
       "      <th>3</th>\n",
       "      <td>4</td>\n",
       "      <td>6</td>\n",
       "      <td>2012</td>\n",
       "      <td>25</td>\n",
       "      <td>89</td>\n",
       "      <td>13</td>\n",
       "      <td>4.0</td>\n",
       "      <td>6.0</td>\n",
       "      <td>2012.0</td>\n",
       "      <td>25.0</td>\n",
       "      <td>89.0</td>\n",
       "      <td>13.0</td>\n",
       "      <td>4.0</td>\n",
       "      <td>not fire</td>\n",
       "    </tr>\n",
       "    <tr>\n",
       "      <th>4</th>\n",
       "      <td>5</td>\n",
       "      <td>6</td>\n",
       "      <td>2012</td>\n",
       "      <td>27</td>\n",
       "      <td>77</td>\n",
       "      <td>16</td>\n",
       "      <td>5.0</td>\n",
       "      <td>6.0</td>\n",
       "      <td>2012.0</td>\n",
       "      <td>27.0</td>\n",
       "      <td>77.0</td>\n",
       "      <td>16.0</td>\n",
       "      <td>5.0</td>\n",
       "      <td>not fire</td>\n",
       "    </tr>\n",
       "  </tbody>\n",
       "</table>\n",
       "</div>"
      ]
     },
     "execution_count": 14,
     "metadata": {},
     "output_type": "execute_result"
    }
   ],
   "execution_count": 14
  },
  {
   "metadata": {
    "ExecuteTime": {
     "end_time": "2025-05-14T14:34:51.190272Z",
     "start_time": "2025-05-14T14:34:51.185270Z"
    }
   },
   "cell_type": "code",
   "source": "df['Classes'].unique()",
   "id": "5550af0175764de",
   "outputs": [
    {
     "data": {
      "text/plain": [
       "array(['not fire   ', 'fire   ', 'fire', 'fire ', 'not fire', 'not fire ',\n",
       "       'Classes  ', 'not fire     ', 'not fire    '], dtype=object)"
      ]
     },
     "execution_count": 15,
     "metadata": {},
     "output_type": "execute_result"
    }
   ],
   "execution_count": 15
  },
  {
   "metadata": {
    "ExecuteTime": {
     "end_time": "2025-05-14T14:34:51.235279Z",
     "start_time": "2025-05-14T14:34:51.229928Z"
    }
   },
   "cell_type": "code",
   "source": [
    "# Convert 'Classes' to string to ensure consistency and handle non-string values\n",
    "df['Classes'] = df['Classes'].astype(str)\n",
    "\n",
    "# Remove leading/trailing spaces and internal spaces\n",
    "df['Classes'] = df['Classes'].str.strip().str.replace(' ', '')\n",
    "\n",
    "df['Classes'] = df['Classes'].map({'fire': 1, 'notfire': 0})"
   ],
   "id": "182a284bbc7968fd",
   "outputs": [],
   "execution_count": 16
  },
  {
   "metadata": {
    "ExecuteTime": {
     "end_time": "2025-05-14T14:34:51.298005Z",
     "start_time": "2025-05-14T14:34:51.290491Z"
    }
   },
   "cell_type": "code",
   "source": "df.info()",
   "id": "76959ba60ccea653",
   "outputs": [
    {
     "name": "stdout",
     "output_type": "stream",
     "text": [
      "<class 'pandas.core.frame.DataFrame'>\n",
      "Index: 244 entries, 0 to 246\n",
      "Data columns (total 14 columns):\n",
      " #   Column       Non-Null Count  Dtype  \n",
      "---  ------       --------------  -----  \n",
      " 0   day          243 non-null    Int64  \n",
      " 1   month        243 non-null    Int64  \n",
      " 2   year         243 non-null    Int64  \n",
      " 3   Temperature  243 non-null    Int64  \n",
      " 4   RH           243 non-null    Int64  \n",
      " 5   Ws           243 non-null    Int64  \n",
      " 6   Rain         243 non-null    float64\n",
      " 7   FFMC         243 non-null    float64\n",
      " 8   DMC          243 non-null    float64\n",
      " 9   DC           243 non-null    float64\n",
      " 10  ISI          243 non-null    float64\n",
      " 11  BUI          243 non-null    float64\n",
      " 12  FWI          243 non-null    float64\n",
      " 13  Classes      243 non-null    float64\n",
      "dtypes: Int64(6), float64(8)\n",
      "memory usage: 30.0 KB\n"
     ]
    }
   ],
   "execution_count": 17
  },
  {
   "metadata": {
    "ExecuteTime": {
     "end_time": "2025-05-14T14:34:51.331816Z",
     "start_time": "2025-05-14T14:34:51.326796Z"
    }
   },
   "cell_type": "code",
   "source": "df['Classes'] = df['Classes'].astype('Int64')",
   "id": "9de0a3e616012e04",
   "outputs": [],
   "execution_count": 18
  },
  {
   "metadata": {
    "ExecuteTime": {
     "end_time": "2025-05-14T14:34:51.362334Z",
     "start_time": "2025-05-14T14:34:51.350333Z"
    }
   },
   "cell_type": "code",
   "source": "df.tail()",
   "id": "f92d56cd8d8655cf",
   "outputs": [
    {
     "data": {
      "text/plain": [
       "     day  month  year  Temperature  RH  Ws  Rain  FFMC     DMC    DC   ISI  \\\n",
       "242   26      9  2012           30  65  14  26.0   9.0  2012.0  30.0  65.0   \n",
       "243   27      9  2012           28  87  15  27.0   9.0  2012.0  28.0  87.0   \n",
       "244   28      9  2012           27  87  29  28.0   9.0  2012.0  27.0  87.0   \n",
       "245   29      9  2012           24  54  18  29.0   9.0  2012.0  24.0  54.0   \n",
       "246   30      9  2012           24  64  15  30.0   9.0  2012.0  24.0  64.0   \n",
       "\n",
       "      BUI   FWI  Classes  \n",
       "242  14.0  26.0        1  \n",
       "243  15.0  27.0        0  \n",
       "244  29.0  28.0        0  \n",
       "245  18.0  29.0        0  \n",
       "246  15.0  30.0        0  "
      ],
      "text/html": [
       "<div>\n",
       "<style scoped>\n",
       "    .dataframe tbody tr th:only-of-type {\n",
       "        vertical-align: middle;\n",
       "    }\n",
       "\n",
       "    .dataframe tbody tr th {\n",
       "        vertical-align: top;\n",
       "    }\n",
       "\n",
       "    .dataframe thead th {\n",
       "        text-align: right;\n",
       "    }\n",
       "</style>\n",
       "<table border=\"1\" class=\"dataframe\">\n",
       "  <thead>\n",
       "    <tr style=\"text-align: right;\">\n",
       "      <th></th>\n",
       "      <th>day</th>\n",
       "      <th>month</th>\n",
       "      <th>year</th>\n",
       "      <th>Temperature</th>\n",
       "      <th>RH</th>\n",
       "      <th>Ws</th>\n",
       "      <th>Rain</th>\n",
       "      <th>FFMC</th>\n",
       "      <th>DMC</th>\n",
       "      <th>DC</th>\n",
       "      <th>ISI</th>\n",
       "      <th>BUI</th>\n",
       "      <th>FWI</th>\n",
       "      <th>Classes</th>\n",
       "    </tr>\n",
       "  </thead>\n",
       "  <tbody>\n",
       "    <tr>\n",
       "      <th>242</th>\n",
       "      <td>26</td>\n",
       "      <td>9</td>\n",
       "      <td>2012</td>\n",
       "      <td>30</td>\n",
       "      <td>65</td>\n",
       "      <td>14</td>\n",
       "      <td>26.0</td>\n",
       "      <td>9.0</td>\n",
       "      <td>2012.0</td>\n",
       "      <td>30.0</td>\n",
       "      <td>65.0</td>\n",
       "      <td>14.0</td>\n",
       "      <td>26.0</td>\n",
       "      <td>1</td>\n",
       "    </tr>\n",
       "    <tr>\n",
       "      <th>243</th>\n",
       "      <td>27</td>\n",
       "      <td>9</td>\n",
       "      <td>2012</td>\n",
       "      <td>28</td>\n",
       "      <td>87</td>\n",
       "      <td>15</td>\n",
       "      <td>27.0</td>\n",
       "      <td>9.0</td>\n",
       "      <td>2012.0</td>\n",
       "      <td>28.0</td>\n",
       "      <td>87.0</td>\n",
       "      <td>15.0</td>\n",
       "      <td>27.0</td>\n",
       "      <td>0</td>\n",
       "    </tr>\n",
       "    <tr>\n",
       "      <th>244</th>\n",
       "      <td>28</td>\n",
       "      <td>9</td>\n",
       "      <td>2012</td>\n",
       "      <td>27</td>\n",
       "      <td>87</td>\n",
       "      <td>29</td>\n",
       "      <td>28.0</td>\n",
       "      <td>9.0</td>\n",
       "      <td>2012.0</td>\n",
       "      <td>27.0</td>\n",
       "      <td>87.0</td>\n",
       "      <td>29.0</td>\n",
       "      <td>28.0</td>\n",
       "      <td>0</td>\n",
       "    </tr>\n",
       "    <tr>\n",
       "      <th>245</th>\n",
       "      <td>29</td>\n",
       "      <td>9</td>\n",
       "      <td>2012</td>\n",
       "      <td>24</td>\n",
       "      <td>54</td>\n",
       "      <td>18</td>\n",
       "      <td>29.0</td>\n",
       "      <td>9.0</td>\n",
       "      <td>2012.0</td>\n",
       "      <td>24.0</td>\n",
       "      <td>54.0</td>\n",
       "      <td>18.0</td>\n",
       "      <td>29.0</td>\n",
       "      <td>0</td>\n",
       "    </tr>\n",
       "    <tr>\n",
       "      <th>246</th>\n",
       "      <td>30</td>\n",
       "      <td>9</td>\n",
       "      <td>2012</td>\n",
       "      <td>24</td>\n",
       "      <td>64</td>\n",
       "      <td>15</td>\n",
       "      <td>30.0</td>\n",
       "      <td>9.0</td>\n",
       "      <td>2012.0</td>\n",
       "      <td>24.0</td>\n",
       "      <td>64.0</td>\n",
       "      <td>15.0</td>\n",
       "      <td>30.0</td>\n",
       "      <td>0</td>\n",
       "    </tr>\n",
       "  </tbody>\n",
       "</table>\n",
       "</div>"
      ]
     },
     "execution_count": 19,
     "metadata": {},
     "output_type": "execute_result"
    }
   ],
   "execution_count": 19
  },
  {
   "metadata": {
    "ExecuteTime": {
     "end_time": "2025-05-14T14:34:51.467249Z",
     "start_time": "2025-05-14T14:34:51.464254Z"
    }
   },
   "cell_type": "code",
   "source": "",
   "id": "55260734da11c242",
   "outputs": [],
   "execution_count": null
  },
  {
   "metadata": {
    "ExecuteTime": {
     "end_time": "2025-05-14T14:34:51.509566Z",
     "start_time": "2025-05-14T14:34:51.503566Z"
    }
   },
   "cell_type": "code",
   "source": "df.iloc[122]\n",
   "id": "81b45896ef20c580",
   "outputs": [
    {
     "data": {
      "text/plain": [
       "day            <NA>\n",
       "month          <NA>\n",
       "year           <NA>\n",
       "Temperature    <NA>\n",
       "RH             <NA>\n",
       "Ws             <NA>\n",
       "Rain           <NA>\n",
       "FFMC           <NA>\n",
       "DMC            <NA>\n",
       "DC             <NA>\n",
       "ISI            <NA>\n",
       "BUI            <NA>\n",
       "FWI            <NA>\n",
       "Classes        <NA>\n",
       "Name: 124, dtype: Float64"
      ]
     },
     "execution_count": 20,
     "metadata": {},
     "output_type": "execute_result"
    }
   ],
   "execution_count": 20
  },
  {
   "metadata": {
    "ExecuteTime": {
     "end_time": "2025-05-14T14:34:51.588664Z",
     "start_time": "2025-05-14T14:34:51.582664Z"
    }
   },
   "cell_type": "code",
   "source": [
    "# Remove rows after index 122 (keep rows 0 through 122)\n",
    "df = df.loc[:122]"
   ],
   "id": "ec91db2e2a0a293",
   "outputs": [],
   "execution_count": 21
  },
  {
   "metadata": {
    "ExecuteTime": {
     "end_time": "2025-05-14T14:34:51.660215Z",
     "start_time": "2025-05-14T14:34:51.654326Z"
    }
   },
   "cell_type": "code",
   "source": [
    "# Define columns to drop (case-insensitive)\n",
    "cols_to_drop = [col for col in df.columns if col.lower() in ['day', 'month', 'year']]\n",
    "\n",
    "# Drop the columns if they exist\n",
    "if cols_to_drop:\n",
    "    df.drop(cols_to_drop, axis=1, inplace=True)"
   ],
   "id": "649160733f9dbe48",
   "outputs": [],
   "execution_count": 22
  },
  {
   "metadata": {
    "ExecuteTime": {
     "end_time": "2025-05-14T14:34:51.705271Z",
     "start_time": "2025-05-14T14:34:51.700272Z"
    }
   },
   "cell_type": "code",
   "source": [
    "# Print original columns for verification\n",
    "print(\"Original columns:\", df.columns.tolist())\n",
    "print(\"Original shape:\", df.shape)"
   ],
   "id": "abee41cc751cda95",
   "outputs": [
    {
     "name": "stdout",
     "output_type": "stream",
     "text": [
      "Original columns: ['Temperature', 'RH', 'Ws', 'Rain', 'FFMC', 'DMC', 'DC', 'ISI', 'BUI', 'FWI', 'Classes']\n",
      "Original shape: (122, 11)\n"
     ]
    }
   ],
   "execution_count": 23
  },
  {
   "metadata": {
    "ExecuteTime": {
     "end_time": "2025-05-14T14:34:51.742179Z",
     "start_time": "2025-05-14T14:34:51.735177Z"
    }
   },
   "cell_type": "code",
   "source": [
    "# Save the updated dataset\n",
    "df.to_csv('updated_ff_dataset.csv', index=False)"
   ],
   "id": "7a477c10bdb5082f",
   "outputs": [],
   "execution_count": 24
  },
  {
   "metadata": {
    "ExecuteTime": {
     "end_time": "2025-05-14T14:35:16.516374Z",
     "start_time": "2025-05-14T14:35:16.500283Z"
    }
   },
   "cell_type": "code",
   "source": "df",
   "id": "2530db15c38f077f",
   "outputs": [
    {
     "data": {
      "text/plain": [
       "     Temperature  RH  Ws  Rain  FFMC     DMC    DC   ISI   BUI   FWI  Classes\n",
       "0             29  57  18   1.0   6.0  2012.0  29.0  57.0  18.0   1.0        0\n",
       "1             29  61  13   2.0   6.0  2012.0  29.0  61.0  13.0   2.0        0\n",
       "2             26  82  22   3.0   6.0  2012.0  26.0  82.0  22.0   3.0        0\n",
       "3             25  89  13   4.0   6.0  2012.0  25.0  89.0  13.0   4.0        0\n",
       "4             27  77  16   5.0   6.0  2012.0  27.0  77.0  16.0   5.0        0\n",
       "..           ...  ..  ..   ...   ...     ...   ...   ...   ...   ...      ...\n",
       "117           31  54  11  26.0   9.0  2012.0  31.0  54.0  11.0  26.0        0\n",
       "118           31  66  11  27.0   9.0  2012.0  31.0  66.0  11.0  27.0        1\n",
       "119           32  47  14  28.0   9.0  2012.0  32.0  47.0  14.0  28.0        0\n",
       "120           26  80  16  29.0   9.0  2012.0  26.0  80.0  16.0  29.0        0\n",
       "121           25  78  14  30.0   9.0  2012.0  25.0  78.0  14.0  30.0        0\n",
       "\n",
       "[122 rows x 11 columns]"
      ],
      "text/html": [
       "<div>\n",
       "<style scoped>\n",
       "    .dataframe tbody tr th:only-of-type {\n",
       "        vertical-align: middle;\n",
       "    }\n",
       "\n",
       "    .dataframe tbody tr th {\n",
       "        vertical-align: top;\n",
       "    }\n",
       "\n",
       "    .dataframe thead th {\n",
       "        text-align: right;\n",
       "    }\n",
       "</style>\n",
       "<table border=\"1\" class=\"dataframe\">\n",
       "  <thead>\n",
       "    <tr style=\"text-align: right;\">\n",
       "      <th></th>\n",
       "      <th>Temperature</th>\n",
       "      <th>RH</th>\n",
       "      <th>Ws</th>\n",
       "      <th>Rain</th>\n",
       "      <th>FFMC</th>\n",
       "      <th>DMC</th>\n",
       "      <th>DC</th>\n",
       "      <th>ISI</th>\n",
       "      <th>BUI</th>\n",
       "      <th>FWI</th>\n",
       "      <th>Classes</th>\n",
       "    </tr>\n",
       "  </thead>\n",
       "  <tbody>\n",
       "    <tr>\n",
       "      <th>0</th>\n",
       "      <td>29</td>\n",
       "      <td>57</td>\n",
       "      <td>18</td>\n",
       "      <td>1.0</td>\n",
       "      <td>6.0</td>\n",
       "      <td>2012.0</td>\n",
       "      <td>29.0</td>\n",
       "      <td>57.0</td>\n",
       "      <td>18.0</td>\n",
       "      <td>1.0</td>\n",
       "      <td>0</td>\n",
       "    </tr>\n",
       "    <tr>\n",
       "      <th>1</th>\n",
       "      <td>29</td>\n",
       "      <td>61</td>\n",
       "      <td>13</td>\n",
       "      <td>2.0</td>\n",
       "      <td>6.0</td>\n",
       "      <td>2012.0</td>\n",
       "      <td>29.0</td>\n",
       "      <td>61.0</td>\n",
       "      <td>13.0</td>\n",
       "      <td>2.0</td>\n",
       "      <td>0</td>\n",
       "    </tr>\n",
       "    <tr>\n",
       "      <th>2</th>\n",
       "      <td>26</td>\n",
       "      <td>82</td>\n",
       "      <td>22</td>\n",
       "      <td>3.0</td>\n",
       "      <td>6.0</td>\n",
       "      <td>2012.0</td>\n",
       "      <td>26.0</td>\n",
       "      <td>82.0</td>\n",
       "      <td>22.0</td>\n",
       "      <td>3.0</td>\n",
       "      <td>0</td>\n",
       "    </tr>\n",
       "    <tr>\n",
       "      <th>3</th>\n",
       "      <td>25</td>\n",
       "      <td>89</td>\n",
       "      <td>13</td>\n",
       "      <td>4.0</td>\n",
       "      <td>6.0</td>\n",
       "      <td>2012.0</td>\n",
       "      <td>25.0</td>\n",
       "      <td>89.0</td>\n",
       "      <td>13.0</td>\n",
       "      <td>4.0</td>\n",
       "      <td>0</td>\n",
       "    </tr>\n",
       "    <tr>\n",
       "      <th>4</th>\n",
       "      <td>27</td>\n",
       "      <td>77</td>\n",
       "      <td>16</td>\n",
       "      <td>5.0</td>\n",
       "      <td>6.0</td>\n",
       "      <td>2012.0</td>\n",
       "      <td>27.0</td>\n",
       "      <td>77.0</td>\n",
       "      <td>16.0</td>\n",
       "      <td>5.0</td>\n",
       "      <td>0</td>\n",
       "    </tr>\n",
       "    <tr>\n",
       "      <th>...</th>\n",
       "      <td>...</td>\n",
       "      <td>...</td>\n",
       "      <td>...</td>\n",
       "      <td>...</td>\n",
       "      <td>...</td>\n",
       "      <td>...</td>\n",
       "      <td>...</td>\n",
       "      <td>...</td>\n",
       "      <td>...</td>\n",
       "      <td>...</td>\n",
       "      <td>...</td>\n",
       "    </tr>\n",
       "    <tr>\n",
       "      <th>117</th>\n",
       "      <td>31</td>\n",
       "      <td>54</td>\n",
       "      <td>11</td>\n",
       "      <td>26.0</td>\n",
       "      <td>9.0</td>\n",
       "      <td>2012.0</td>\n",
       "      <td>31.0</td>\n",
       "      <td>54.0</td>\n",
       "      <td>11.0</td>\n",
       "      <td>26.0</td>\n",
       "      <td>0</td>\n",
       "    </tr>\n",
       "    <tr>\n",
       "      <th>118</th>\n",
       "      <td>31</td>\n",
       "      <td>66</td>\n",
       "      <td>11</td>\n",
       "      <td>27.0</td>\n",
       "      <td>9.0</td>\n",
       "      <td>2012.0</td>\n",
       "      <td>31.0</td>\n",
       "      <td>66.0</td>\n",
       "      <td>11.0</td>\n",
       "      <td>27.0</td>\n",
       "      <td>1</td>\n",
       "    </tr>\n",
       "    <tr>\n",
       "      <th>119</th>\n",
       "      <td>32</td>\n",
       "      <td>47</td>\n",
       "      <td>14</td>\n",
       "      <td>28.0</td>\n",
       "      <td>9.0</td>\n",
       "      <td>2012.0</td>\n",
       "      <td>32.0</td>\n",
       "      <td>47.0</td>\n",
       "      <td>14.0</td>\n",
       "      <td>28.0</td>\n",
       "      <td>0</td>\n",
       "    </tr>\n",
       "    <tr>\n",
       "      <th>120</th>\n",
       "      <td>26</td>\n",
       "      <td>80</td>\n",
       "      <td>16</td>\n",
       "      <td>29.0</td>\n",
       "      <td>9.0</td>\n",
       "      <td>2012.0</td>\n",
       "      <td>26.0</td>\n",
       "      <td>80.0</td>\n",
       "      <td>16.0</td>\n",
       "      <td>29.0</td>\n",
       "      <td>0</td>\n",
       "    </tr>\n",
       "    <tr>\n",
       "      <th>121</th>\n",
       "      <td>25</td>\n",
       "      <td>78</td>\n",
       "      <td>14</td>\n",
       "      <td>30.0</td>\n",
       "      <td>9.0</td>\n",
       "      <td>2012.0</td>\n",
       "      <td>25.0</td>\n",
       "      <td>78.0</td>\n",
       "      <td>14.0</td>\n",
       "      <td>30.0</td>\n",
       "      <td>0</td>\n",
       "    </tr>\n",
       "  </tbody>\n",
       "</table>\n",
       "<p>122 rows × 11 columns</p>\n",
       "</div>"
      ]
     },
     "execution_count": 25,
     "metadata": {},
     "output_type": "execute_result"
    }
   ],
   "execution_count": 25
  },
  {
   "metadata": {},
   "cell_type": "code",
   "outputs": [],
   "execution_count": null,
   "source": "",
   "id": "e073a3bfa418190c"
  }
 ],
 "metadata": {
  "kernelspec": {
   "display_name": "Python 3 (ipykernel)",
   "language": "python",
   "name": "python3"
  },
  "language_info": {
   "codemirror_mode": {
    "name": "ipython",
    "version": 3
   },
   "file_extension": ".py",
   "mimetype": "text/x-python",
   "name": "python",
   "nbconvert_exporter": "python",
   "pygments_lexer": "ipython3",
   "version": "3.12.7"
  }
 },
 "nbformat": 4,
 "nbformat_minor": 5
}
