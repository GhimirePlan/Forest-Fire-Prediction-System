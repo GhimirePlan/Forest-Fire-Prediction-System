{
 "cells": [
  {
   "cell_type": "code",
   "execution_count": 77,
   "id": "initial_id",
   "metadata": {
    "ExecuteTime": {
     "end_time": "2025-05-14T15:15:18.189908Z",
     "start_time": "2025-05-14T15:15:18.183459Z"
    },
    "collapsed": true
   },
   "outputs": [],
   "source": [
    "import numpy as np\n",
    "import pandas as pd\n",
    "from sklearn.model_selection import train_test_split\n",
    "from sklearn.preprocessing import StandardScaler\n",
    "import matplotlib.pyplot as plt\n",
    "import seaborn as sns\n",
    "\n",
    "\n"
   ]
  },
  {
   "cell_type": "code",
   "execution_count": 78,
   "id": "16c86411f8021eee",
   "metadata": {
    "ExecuteTime": {
     "end_time": "2025-05-14T15:15:18.226794Z",
     "start_time": "2025-05-14T15:15:18.220405Z"
    }
   },
   "outputs": [],
   "source": [
    "df = pd.read_csv('updated_ff_dataset.csv')"
   ]
  },
  {
   "cell_type": "code",
   "execution_count": null,
   "id": "27305119c8cceab5",
   "metadata": {
    "ExecuteTime": {
     "end_time": "2025-05-14T15:15:18.252926Z",
     "start_time": "2025-05-14T15:15:18.249914Z"
    }
   },
   "outputs": [],
   "source": []
  },
  {
   "cell_type": "code",
   "execution_count": 79,
   "id": "b5e283704d85fa7d",
   "metadata": {
    "ExecuteTime": {
     "end_time": "2025-05-14T15:15:18.282642Z",
     "start_time": "2025-05-14T15:15:18.278811Z"
    }
   },
   "outputs": [],
   "source": [
    "# Combine features into X\n",
    "feature_cols = ['Temperature', 'RH', 'Ws', 'Rain', 'FFMC', 'DMC', 'DC', 'ISI', 'BUI', 'Classes']\n",
    "X = df[feature_cols]  # Convert selected columns to NumPy array\n",
    "# Alternative with np.column_stack:\n",
    "# X = np.column_stack([df[col] for col in feature_cols])\n",
    "\n",
    "# Set target y\n",
    "y = df['FWI'] # Convert to NumPy array for consistency"
   ]
  },
  {
   "cell_type": "code",
   "execution_count": 80,
   "id": "1c32699611e04477",
   "metadata": {
    "ExecuteTime": {
     "end_time": "2025-05-14T15:15:18.310537Z",
     "start_time": "2025-05-14T15:15:18.305665Z"
    }
   },
   "outputs": [],
   "source": [
    "# Split data into training and testing sets\n",
    "X_train, X_test, y_train, y_test = train_test_split(X, y, test_size=0.2, random_state=42)"
   ]
  },
  {
   "cell_type": "code",
   "execution_count": 81,
   "id": "2703d618d4b11c32",
   "metadata": {
    "ExecuteTime": {
     "end_time": "2025-05-14T15:15:18.344846Z",
     "start_time": "2025-05-14T15:15:18.340845Z"
    }
   },
   "outputs": [],
   "source": [
    "def correlation(df, threshold):\n",
    "    col_corr = set()\n",
    "    corr_matrix = df.corr()\n",
    "    for i in range(len(corr_matrix.columns)):\n",
    "        for j in range(i):\n",
    "            if abs(corr_matrix.iloc[i, j]) > threshold:\n",
    "                colname= corr_matrix.columns[i]\n",
    "                col_corr.add(colname)\n",
    "    return col_corr\n"
   ]
  },
  {
   "cell_type": "code",
   "execution_count": 82,
   "id": "164a27aa6f606e7a",
   "metadata": {
    "ExecuteTime": {
     "end_time": "2025-05-14T15:15:18.369148Z",
     "start_time": "2025-05-14T15:15:18.365130Z"
    }
   },
   "outputs": [],
   "source": [
    "corr_features = correlation(X_train, 0.85)"
   ]
  },
  {
   "cell_type": "code",
   "execution_count": 83,
   "id": "fd89ba4d06b72a1",
   "metadata": {
    "ExecuteTime": {
     "end_time": "2025-05-14T15:15:18.394502Z",
     "start_time": "2025-05-14T15:15:18.389501Z"
    }
   },
   "outputs": [
    {
     "data": {
      "text/plain": [
       "{'BUI', 'DC', 'ISI'}"
      ]
     },
     "execution_count": 83,
     "metadata": {},
     "output_type": "execute_result"
    }
   ],
   "source": [
    "corr_features"
   ]
  },
  {
   "cell_type": "code",
   "execution_count": 84,
   "id": "11568f98354fcb1f",
   "metadata": {
    "ExecuteTime": {
     "end_time": "2025-05-14T15:15:18.436036Z",
     "start_time": "2025-05-14T15:15:18.431213Z"
    }
   },
   "outputs": [
    {
     "data": {
      "text/plain": [
       "((97, 7), (25, 7))"
      ]
     },
     "execution_count": 84,
     "metadata": {},
     "output_type": "execute_result"
    }
   ],
   "source": [
    "X_train.drop(corr_features, axis=1, inplace=True)\n",
    "X_test.drop(corr_features, axis=1, inplace=True)\n",
    "X_train.shape , X_test.shape"
   ]
  },
  {
   "cell_type": "code",
   "execution_count": 85,
   "id": "8481d50bc1908456",
   "metadata": {
    "ExecuteTime": {
     "end_time": "2025-05-14T15:15:18.488578Z",
     "start_time": "2025-05-14T15:15:18.478048Z"
    }
   },
   "outputs": [
    {
     "data": {
      "text/html": [
       "<div>\n",
       "<style scoped>\n",
       "    .dataframe tbody tr th:only-of-type {\n",
       "        vertical-align: middle;\n",
       "    }\n",
       "\n",
       "    .dataframe tbody tr th {\n",
       "        vertical-align: top;\n",
       "    }\n",
       "\n",
       "    .dataframe thead th {\n",
       "        text-align: right;\n",
       "    }\n",
       "</style>\n",
       "<table border=\"1\" class=\"dataframe\">\n",
       "  <thead>\n",
       "    <tr style=\"text-align: right;\">\n",
       "      <th></th>\n",
       "      <th>Temperature</th>\n",
       "      <th>RH</th>\n",
       "      <th>Ws</th>\n",
       "      <th>Rain</th>\n",
       "      <th>FFMC</th>\n",
       "      <th>DMC</th>\n",
       "      <th>DC</th>\n",
       "      <th>ISI</th>\n",
       "      <th>BUI</th>\n",
       "      <th>FWI</th>\n",
       "      <th>Classes</th>\n",
       "    </tr>\n",
       "  </thead>\n",
       "  <tbody>\n",
       "    <tr>\n",
       "      <th>0</th>\n",
       "      <td>29</td>\n",
       "      <td>57</td>\n",
       "      <td>18</td>\n",
       "      <td>1.0</td>\n",
       "      <td>6.0</td>\n",
       "      <td>2012.0</td>\n",
       "      <td>29.0</td>\n",
       "      <td>57.0</td>\n",
       "      <td>18.0</td>\n",
       "      <td>1.0</td>\n",
       "      <td>0</td>\n",
       "    </tr>\n",
       "    <tr>\n",
       "      <th>1</th>\n",
       "      <td>29</td>\n",
       "      <td>61</td>\n",
       "      <td>13</td>\n",
       "      <td>2.0</td>\n",
       "      <td>6.0</td>\n",
       "      <td>2012.0</td>\n",
       "      <td>29.0</td>\n",
       "      <td>61.0</td>\n",
       "      <td>13.0</td>\n",
       "      <td>2.0</td>\n",
       "      <td>0</td>\n",
       "    </tr>\n",
       "    <tr>\n",
       "      <th>2</th>\n",
       "      <td>26</td>\n",
       "      <td>82</td>\n",
       "      <td>22</td>\n",
       "      <td>3.0</td>\n",
       "      <td>6.0</td>\n",
       "      <td>2012.0</td>\n",
       "      <td>26.0</td>\n",
       "      <td>82.0</td>\n",
       "      <td>22.0</td>\n",
       "      <td>3.0</td>\n",
       "      <td>0</td>\n",
       "    </tr>\n",
       "    <tr>\n",
       "      <th>3</th>\n",
       "      <td>25</td>\n",
       "      <td>89</td>\n",
       "      <td>13</td>\n",
       "      <td>4.0</td>\n",
       "      <td>6.0</td>\n",
       "      <td>2012.0</td>\n",
       "      <td>25.0</td>\n",
       "      <td>89.0</td>\n",
       "      <td>13.0</td>\n",
       "      <td>4.0</td>\n",
       "      <td>0</td>\n",
       "    </tr>\n",
       "    <tr>\n",
       "      <th>4</th>\n",
       "      <td>27</td>\n",
       "      <td>77</td>\n",
       "      <td>16</td>\n",
       "      <td>5.0</td>\n",
       "      <td>6.0</td>\n",
       "      <td>2012.0</td>\n",
       "      <td>27.0</td>\n",
       "      <td>77.0</td>\n",
       "      <td>16.0</td>\n",
       "      <td>5.0</td>\n",
       "      <td>0</td>\n",
       "    </tr>\n",
       "    <tr>\n",
       "      <th>...</th>\n",
       "      <td>...</td>\n",
       "      <td>...</td>\n",
       "      <td>...</td>\n",
       "      <td>...</td>\n",
       "      <td>...</td>\n",
       "      <td>...</td>\n",
       "      <td>...</td>\n",
       "      <td>...</td>\n",
       "      <td>...</td>\n",
       "      <td>...</td>\n",
       "      <td>...</td>\n",
       "    </tr>\n",
       "    <tr>\n",
       "      <th>117</th>\n",
       "      <td>31</td>\n",
       "      <td>54</td>\n",
       "      <td>11</td>\n",
       "      <td>26.0</td>\n",
       "      <td>9.0</td>\n",
       "      <td>2012.0</td>\n",
       "      <td>31.0</td>\n",
       "      <td>54.0</td>\n",
       "      <td>11.0</td>\n",
       "      <td>26.0</td>\n",
       "      <td>0</td>\n",
       "    </tr>\n",
       "    <tr>\n",
       "      <th>118</th>\n",
       "      <td>31</td>\n",
       "      <td>66</td>\n",
       "      <td>11</td>\n",
       "      <td>27.0</td>\n",
       "      <td>9.0</td>\n",
       "      <td>2012.0</td>\n",
       "      <td>31.0</td>\n",
       "      <td>66.0</td>\n",
       "      <td>11.0</td>\n",
       "      <td>27.0</td>\n",
       "      <td>1</td>\n",
       "    </tr>\n",
       "    <tr>\n",
       "      <th>119</th>\n",
       "      <td>32</td>\n",
       "      <td>47</td>\n",
       "      <td>14</td>\n",
       "      <td>28.0</td>\n",
       "      <td>9.0</td>\n",
       "      <td>2012.0</td>\n",
       "      <td>32.0</td>\n",
       "      <td>47.0</td>\n",
       "      <td>14.0</td>\n",
       "      <td>28.0</td>\n",
       "      <td>0</td>\n",
       "    </tr>\n",
       "    <tr>\n",
       "      <th>120</th>\n",
       "      <td>26</td>\n",
       "      <td>80</td>\n",
       "      <td>16</td>\n",
       "      <td>29.0</td>\n",
       "      <td>9.0</td>\n",
       "      <td>2012.0</td>\n",
       "      <td>26.0</td>\n",
       "      <td>80.0</td>\n",
       "      <td>16.0</td>\n",
       "      <td>29.0</td>\n",
       "      <td>0</td>\n",
       "    </tr>\n",
       "    <tr>\n",
       "      <th>121</th>\n",
       "      <td>25</td>\n",
       "      <td>78</td>\n",
       "      <td>14</td>\n",
       "      <td>30.0</td>\n",
       "      <td>9.0</td>\n",
       "      <td>2012.0</td>\n",
       "      <td>25.0</td>\n",
       "      <td>78.0</td>\n",
       "      <td>14.0</td>\n",
       "      <td>30.0</td>\n",
       "      <td>0</td>\n",
       "    </tr>\n",
       "  </tbody>\n",
       "</table>\n",
       "<p>122 rows × 11 columns</p>\n",
       "</div>"
      ],
      "text/plain": [
       "     Temperature  RH  Ws  Rain  FFMC     DMC    DC   ISI   BUI   FWI  Classes\n",
       "0             29  57  18   1.0   6.0  2012.0  29.0  57.0  18.0   1.0        0\n",
       "1             29  61  13   2.0   6.0  2012.0  29.0  61.0  13.0   2.0        0\n",
       "2             26  82  22   3.0   6.0  2012.0  26.0  82.0  22.0   3.0        0\n",
       "3             25  89  13   4.0   6.0  2012.0  25.0  89.0  13.0   4.0        0\n",
       "4             27  77  16   5.0   6.0  2012.0  27.0  77.0  16.0   5.0        0\n",
       "..           ...  ..  ..   ...   ...     ...   ...   ...   ...   ...      ...\n",
       "117           31  54  11  26.0   9.0  2012.0  31.0  54.0  11.0  26.0        0\n",
       "118           31  66  11  27.0   9.0  2012.0  31.0  66.0  11.0  27.0        1\n",
       "119           32  47  14  28.0   9.0  2012.0  32.0  47.0  14.0  28.0        0\n",
       "120           26  80  16  29.0   9.0  2012.0  26.0  80.0  16.0  29.0        0\n",
       "121           25  78  14  30.0   9.0  2012.0  25.0  78.0  14.0  30.0        0\n",
       "\n",
       "[122 rows x 11 columns]"
      ]
     },
     "execution_count": 85,
     "metadata": {},
     "output_type": "execute_result"
    }
   ],
   "source": [
    "df"
   ]
  },
  {
   "cell_type": "code",
   "execution_count": 86,
   "id": "9d0829a61ef36ec2",
   "metadata": {
    "ExecuteTime": {
     "end_time": "2025-05-14T15:15:18.552966Z",
     "start_time": "2025-05-14T15:15:18.545931Z"
    }
   },
   "outputs": [],
   "source": [
    "scaler = StandardScaler()\n",
    "X_train_Scaled = scaler.fit_transform(X_train)\n",
    "X_test_Scaled = scaler.transform(X_test)"
   ]
  },
  {
   "cell_type": "code",
   "execution_count": 87,
   "id": "9dfa326e62b8bd94",
   "metadata": {
    "ExecuteTime": {
     "end_time": "2025-05-14T15:15:18.610771Z",
     "start_time": "2025-05-14T15:15:18.599771Z"
    }
   },
   "outputs": [
    {
     "data": {
      "text/plain": [
       "array([[ 0.84930818,  1.10652376, -0.32645878, -0.29063034, -0.49116201,\n",
       "         0.        , -0.98974332],\n",
       "       [-2.69404208,  0.6501768 ,  3.45975338, -0.1760322 ,  1.3066763 ,\n",
       "         0.        , -0.98974332],\n",
       "       [-2.69404208,  1.56287072, -0.32645878, -1.55120991,  1.3066763 ,\n",
       "         0.        , -0.98974332],\n",
       "       [ 1.14458737, -0.4450559 ,  0.70614454, -0.9782192 , -0.49116201,\n",
       "         0.        , -0.98974332],\n",
       "       [-0.33180857,  0.74144619, -0.32645878, -0.74902291,  1.3066763 ,\n",
       "         0.        , -0.98974332],\n",
       "       [-1.21764614,  1.38033193,  1.73874785, -0.29063034, -1.39008117,\n",
       "         0.        , -0.98974332],\n",
       "       [-0.62708776,  1.83667889, -1.01486099,  0.05316409, -1.39008117,\n",
       "         0.        , -0.98974332],\n",
       "       [ 1.14458737, -1.63155799, -1.01486099, -0.40522848,  0.40775714,\n",
       "         0.        , -0.98974332],\n",
       "       [ 0.2587498 , -0.62759468,  0.70614454,  0.85535108, -1.39008117,\n",
       "         0.        ,  1.01036297],\n",
       "       [-1.51292533,  1.10652376,  1.73874785,  1.08454737,  1.3066763 ,\n",
       "         0.        , -0.98974332],\n",
       "       [-0.92236695,  1.01525437,  1.73874785,  1.77213622,  0.40775714,\n",
       "         0.        , -0.98974332],\n",
       "       [ 1.43986656, -1.44901921,  0.01774233,  0.85535108,  0.40775714,\n",
       "         0.        ,  1.01036297],\n",
       "       [-0.62708776, -0.07997833,  1.05034564, -1.66580805, -0.49116201,\n",
       "         0.        , -0.98974332],\n",
       "       [ 1.73514575, -1.5402886 ,  0.70614454,  0.16776223,  0.40775714,\n",
       "         0.        ,  1.01036297],\n",
       "       [ 0.84930818, -0.35378651, -1.01486099, -1.20741548,  0.40775714,\n",
       "         0.        ,  1.01036297],\n",
       "       [-0.92236695,  0.92398498, -1.3590621 , -0.63442477, -1.39008117,\n",
       "         0.        , -0.98974332],\n",
       "       [ 0.55402899,  0.83271558,  0.36194343, -1.32201362, -0.49116201,\n",
       "         0.        , -0.98974332],\n",
       "       [-0.03652938, -0.4450559 ,  0.70614454,  1.19914551, -1.39008117,\n",
       "         0.        ,  1.01036297],\n",
       "       [ 1.14458737, -1.26648043, -0.67065989, -0.63442477,  0.40775714,\n",
       "         0.        ,  1.01036297],\n",
       "       [ 0.2587498 , -1.99663556, -1.01486099,  1.54293994, -1.39008117,\n",
       "         0.        , -0.98974332],\n",
       "       [-1.51292533,  1.01525437,  0.01774233,  1.54293994,  1.3066763 ,\n",
       "         0.        , -0.98974332],\n",
       "       [-0.92236695,  1.38033193,  0.70614454,  0.51155666,  1.3066763 ,\n",
       "         0.        ,  1.01036297],\n",
       "       [-0.03652938, -0.17124772, -0.67065989, -1.09281734, -1.39008117,\n",
       "         0.        ,  1.01036297],\n",
       "       [ 0.84930818,  0.01129106, -1.01486099, -1.32201362,  0.40775714,\n",
       "         0.        ,  1.01036297],\n",
       "       [ 1.14458737, -0.90140286,  0.36194343, -0.74902291,  0.40775714,\n",
       "         0.        ,  1.01036297],\n",
       "       [ 0.55402899,  0.01129106, -1.01486099, -0.63442477, -0.49116201,\n",
       "         0.        , -0.98974332],\n",
       "       [ 0.55402899, -0.35378651, -0.32645878,  0.51155666, -0.49116201,\n",
       "         0.        ,  1.01036297],\n",
       "       [ 0.2587498 , -0.53632529, -0.67065989, -1.09281734, -0.49116201,\n",
       "         0.        ,  1.01036297],\n",
       "       [-0.33180857,  1.83667889,  0.01774233,  0.16776223, -1.39008117,\n",
       "         0.        , -0.98974332],\n",
       "       [ 0.2587498 ,  0.01129106,  0.01774233, -0.9782192 ,  0.40775714,\n",
       "         0.        ,  1.01036297],\n",
       "       [ 0.55402899, -0.26251712, -0.67065989, -1.20741548, -0.49116201,\n",
       "         0.        ,  1.01036297],\n",
       "       [ 0.84930818, -0.4450559 , -0.67065989,  0.96994923,  0.40775714,\n",
       "         0.        ,  1.01036297],\n",
       "       [-0.33180857,  0.37636863, -0.32645878, -0.86362105, -1.39008117,\n",
       "         0.        ,  1.01036297],\n",
       "       [ 0.84930818, -0.71886408, -1.01486099, -0.1760322 , -0.49116201,\n",
       "         0.        , -0.98974332],\n",
       "       [ 1.14458737, -0.53632529, -0.32645878, -0.29063034,  0.40775714,\n",
       "         0.        ,  1.01036297],\n",
       "       [ 0.2587498 , -0.81013347,  0.70614454, -0.86362105,  0.40775714,\n",
       "         0.        , -0.98974332],\n",
       "       [ 1.14458737, -0.07997833,  1.05034564,  0.51155666,  0.40775714,\n",
       "         0.        ,  1.01036297],\n",
       "       [ 0.2587498 , -1.26648043, -0.67065989,  1.4283418 , -1.39008117,\n",
       "         0.        ,  1.01036297],\n",
       "       [-0.33180857,  1.01525437,  0.01774233,  0.51155666, -1.39008117,\n",
       "         0.        , -0.98974332],\n",
       "       [-0.62708776,  0.46763802,  1.05034564, -1.09281734,  1.3066763 ,\n",
       "         0.        , -0.98974332],\n",
       "       [-0.03652938, -1.72282738,  1.05034564,  0.74075294,  1.3066763 ,\n",
       "         0.        , -0.98974332],\n",
       "       [-1.80820452,  1.7454095 , -1.01486099, -0.74902291, -1.39008117,\n",
       "         0.        , -0.98974332],\n",
       "       [-0.33180857,  0.83271558,  1.39454675, -0.1760322 , -1.39008117,\n",
       "         0.        , -0.98974332],\n",
       "       [ 1.14458737, -0.81013347, -0.32645878,  1.08454737,  0.40775714,\n",
       "         0.        ,  1.01036297],\n",
       "       [-1.80820452,  1.83667889, -1.01486099, -1.32201362, -1.39008117,\n",
       "         0.        , -0.98974332],\n",
       "       [-0.03652938,  0.83271558, -0.67065989,  0.28236037, -1.39008117,\n",
       "         0.        , -0.98974332],\n",
       "       [ 0.2587498 , -0.07997833, -0.67065989, -0.74902291, -0.49116201,\n",
       "         0.        , -0.98974332],\n",
       "       [-1.80820452,  0.83271558, -0.32645878, -1.43661177,  1.3066763 ,\n",
       "         0.        , -0.98974332],\n",
       "       [ 0.55402899, -1.35774982, -1.01486099, -0.9782192 , -1.39008117,\n",
       "         0.        ,  1.01036297],\n",
       "       [ 1.43986656, -1.35774982,  0.70614454,  0.28236037,  0.40775714,\n",
       "         0.        ,  1.01036297],\n",
       "       [-1.80820452,  1.56287072,  1.73874785, -0.29063034,  1.3066763 ,\n",
       "         0.        , -0.98974332],\n",
       "       [-0.62708776,  0.55890741,  0.01774233, -1.20741548,  1.3066763 ,\n",
       "         0.        ,  1.01036297],\n",
       "       [-0.03652938, -0.35378651,  0.70614454,  1.08454737, -0.49116201,\n",
       "         0.        ,  1.01036297],\n",
       "       [ 0.55402899,  0.10256045,  0.36194343,  0.6261548 , -0.49116201,\n",
       "         0.        ,  1.01036297],\n",
       "       [ 1.43986656, -0.99267225,  1.05034564,  0.6261548 ,  0.40775714,\n",
       "         0.        ,  1.01036297],\n",
       "       [-0.62708776,  0.10256045, -0.67065989,  0.16776223, -0.49116201,\n",
       "         0.        ,  1.01036297],\n",
       "       [-0.03652938, -1.26648043, -1.7032632 ,  0.6261548 ,  1.3066763 ,\n",
       "         0.        ,  1.01036297],\n",
       "       [ 1.43986656, -2.17917434, -0.67065989, -1.66580805,  0.40775714,\n",
       "         0.        , -0.98974332],\n",
       "       [-0.03652938, -0.26251712, -1.7032632 ,  1.31374365,  1.3066763 ,\n",
       "         0.        ,  1.01036297],\n",
       "       [ 1.14458737, -0.62759468,  1.05034564,  0.39695851,  0.40775714,\n",
       "         0.        ,  1.01036297],\n",
       "       [-0.62708776,  0.37636863,  0.36194343, -1.32201362,  1.3066763 ,\n",
       "         0.        , -0.98974332],\n",
       "       [-0.03652938,  0.55890741, -1.01486099, -0.40522848, -0.49116201,\n",
       "         0.        , -0.98974332],\n",
       "       [ 0.2587498 ,  0.37636863, -0.32645878,  1.54293994, -0.49116201,\n",
       "         0.        ,  1.01036297],\n",
       "       [ 1.14458737, -0.90140286,  0.36194343,  0.39695851, -0.49116201,\n",
       "         0.        ,  1.01036297],\n",
       "       [ 0.84930818, -0.4450559 ,  0.01774233,  1.4283418 ,  0.40775714,\n",
       "         0.        ,  1.01036297],\n",
       "       [-0.03652938, -1.35774982, -1.7032632 ,  1.19914551,  1.3066763 ,\n",
       "         0.        , -0.98974332],\n",
       "       [ 0.55402899,  0.6501768 , -0.32645878,  1.4283418 , -0.49116201,\n",
       "         0.        ,  1.01036297],\n",
       "       [ 1.43986656, -1.26648043, -1.01486099, -0.06143406,  0.40775714,\n",
       "         0.        ,  1.01036297],\n",
       "       [ 0.2587498 ,  0.6501768 ,  1.39454675, -1.43661177, -0.49116201,\n",
       "         0.        , -0.98974332],\n",
       "       [ 0.2587498 , -1.35774982, -1.7032632 ,  0.85535108,  1.3066763 ,\n",
       "         0.        , -0.98974332],\n",
       "       [-0.03652938,  0.92398498, -0.32645878,  1.65753808, -0.49116201,\n",
       "         0.        ,  1.01036297],\n",
       "       [ 1.14458737, -0.53632529, -0.67065989, -1.43661177,  0.40775714,\n",
       "         0.        , -0.98974332],\n",
       "       [ 0.55402899,  0.37636863, -1.3590621 , -0.63442477,  1.3066763 ,\n",
       "         0.        , -0.98974332],\n",
       "       [ 0.55402899, -0.07997833,  1.05034564, -0.86362105, -0.49116201,\n",
       "         0.        ,  1.01036297],\n",
       "       [ 0.55402899, -1.72282738, -0.67065989,  1.65753808, -1.39008117,\n",
       "         0.        ,  1.01036297],\n",
       "       [-0.03652938, -1.5402886 , -0.67065989,  0.16776223,  1.3066763 ,\n",
       "         0.        ,  1.01036297],\n",
       "       [-0.62708776, -0.71886408, -1.01486099, -1.55120991, -1.39008117,\n",
       "         0.        , -0.98974332],\n",
       "       [-1.21764614, -0.26251712,  2.08294896,  0.85535108, -0.49116201,\n",
       "         0.        , -0.98974332],\n",
       "       [-0.03652938, -0.17124772,  0.36194343,  0.74075294, -1.39008117,\n",
       "         0.        , -0.98974332],\n",
       "       [-1.51292533,  1.19779315,  2.08294896, -1.43661177, -1.39008117,\n",
       "         0.        , -0.98974332],\n",
       "       [ 0.2587498 , -0.26251712,  0.36194343,  0.96994923, -1.39008117,\n",
       "         0.        ,  1.01036297],\n",
       "       [-0.62708776,  1.7454095 , -1.01486099, -0.40522848,  1.3066763 ,\n",
       "         0.        , -0.98974332],\n",
       "       [-0.33180857,  0.37636863,  0.36194343, -0.86362105,  1.3066763 ,\n",
       "         0.        , -0.98974332],\n",
       "       [ 0.55402899,  1.19779315,  1.73874785,  1.31374365,  0.40775714,\n",
       "         0.        ,  1.01036297],\n",
       "       [-0.62708776, -1.08394164, -0.67065989,  0.39695851,  1.3066763 ,\n",
       "         0.        ,  1.01036297],\n",
       "       [ 0.55402899, -0.26251712, -0.67065989, -0.1760322 ,  0.40775714,\n",
       "         0.        ,  1.01036297],\n",
       "       [-0.03652938,  0.83271558,  0.70614454,  1.19914551,  0.40775714,\n",
       "         0.        ,  1.01036297],\n",
       "       [ 1.43986656, -1.26648043,  0.70614454,  0.74075294,  0.40775714,\n",
       "         0.        ,  1.01036297],\n",
       "       [-1.80820452,  0.83271558, -0.67065989,  1.65753808,  1.3066763 ,\n",
       "         0.        , -0.98974332],\n",
       "       [-0.33180857,  0.83271558, -0.67065989,  0.6261548 , -1.39008117,\n",
       "         0.        ,  1.01036297],\n",
       "       [ 1.14458737, -0.4450559 ,  0.36194343,  1.77213622, -0.49116201,\n",
       "         0.        ,  1.01036297],\n",
       "       [ 1.14458737, -0.53632529, -1.01486099, -0.51982663,  0.40775714,\n",
       "         0.        ,  1.01036297],\n",
       "       [-2.10348371,  1.19779315, -0.32645878, -0.06143406,  1.3066763 ,\n",
       "         0.        , -0.98974332],\n",
       "       [-0.92236695,  1.01525437,  0.36194343, -0.06143406, -1.39008117,\n",
       "         0.        , -0.98974332],\n",
       "       [-1.80820452,  0.6501768 ,  0.36194343, -1.66580805,  1.3066763 ,\n",
       "         0.        , -0.98974332],\n",
       "       [-0.92236695,  0.92398498,  0.70614454,  0.74075294, -0.49116201,\n",
       "         0.        , -0.98974332],\n",
       "       [-0.33180857,  0.74144619,  1.73874785, -0.51982663,  1.3066763 ,\n",
       "         0.        , -0.98974332]])"
      ]
     },
     "execution_count": 87,
     "metadata": {},
     "output_type": "execute_result"
    }
   ],
   "source": [
    "X_train_Scaled"
   ]
  },
  {
   "cell_type": "code",
   "execution_count": 88,
   "id": "684975ecd7bb9dd8",
   "metadata": {
    "ExecuteTime": {
     "end_time": "2025-05-14T15:15:18.723025Z",
     "start_time": "2025-05-14T15:15:18.717043Z"
    }
   },
   "outputs": [
    {
     "data": {
      "text/plain": [
       "Index(['Temperature', 'RH', 'Ws', 'Rain', 'FFMC', 'DMC', 'DC', 'ISI', 'BUI',\n",
       "       'FWI', 'Classes'],\n",
       "      dtype='object')"
      ]
     },
     "execution_count": 88,
     "metadata": {},
     "output_type": "execute_result"
    }
   ],
   "source": [
    "df.columns"
   ]
  },
  {
   "cell_type": "code",
   "execution_count": 89,
   "id": "8dad8084b569558f",
   "metadata": {
    "ExecuteTime": {
     "end_time": "2025-05-14T15:15:19.149267Z",
     "start_time": "2025-05-14T15:15:18.801377Z"
    }
   },
   "outputs": [
    {
     "data": {
      "text/plain": [
       "<Axes: >"
      ]
     },
     "execution_count": 89,
     "metadata": {},
     "output_type": "execute_result"
    },
    {
     "data": {
      "image/png": "[encoded data removed]",
      "text/plain": [
       "<Figure size 1500x500 with 3 Axes>"
      ]
     },
     "metadata": {},
     "output_type": "display_data"
    }
   ],
   "source": [
    "plt.subplots(figsize=(15, 5))\n",
    "plt.subplot(1, 2, 1)\n",
    "sns.boxplot(data=X_train)\n",
    "plt.subplot(1, 2, 2)\n",
    "sns.boxplot(data=X_train_Scaled)"
   ]
  },
  {
   "cell_type": "code",
   "execution_count": 91,
   "id": "59719a12c19a4d90",
   "metadata": {
    "ExecuteTime": {
     "end_time": "2025-05-14T15:18:34.133265Z",
     "start_time": "2025-05-14T15:18:34.118262Z"
    }
   },
   "outputs": [
    {
     "data": {
      "text/plain": [
       "(1.8474111129762605e-15, 1.0)"
      ]
     },
     "execution_count": 91,
     "metadata": {},
     "output_type": "execute_result"
    }
   ],
   "source": [
    "from sklearn.linear_model import LinearRegression\n",
    "from sklearn.metrics import mean_absolute_error\n",
    "from sklearn.metrics import r2_score\n",
    "lin_reg = LinearRegression()\n",
    "lin_reg.fit(X_train_Scaled, y_train)\n",
    "y_pred = lin_reg.predict(X_test_Scaled)\n",
    "mae = mean_absolute_error(y_test, y_pred)\n",
    "score = r2_score(y_test, y_pred)\n",
    "mae , score\n"
   ]
  },
  {
   "cell_type": "code",
   "execution_count": 92,
   "id": "e40a14d4fbbc5c16",
   "metadata": {
    "ExecuteTime": {
     "end_time": "2025-05-14T15:20:22.723048Z",
     "start_time": "2025-05-14T15:20:22.713054Z"
    }
   },
   "outputs": [
    {
     "name": "stdout",
     "output_type": "stream",
     "text": [
      "Scaler saved as 'scaler.pkl'\n",
      "Model saved as 'model.pkl'\n"
     ]
    }
   ],
   "source": [
    "import pickle\n",
    "\n",
    "# Save the trained scaler\n",
    "with open('scaler.pkl', 'wb') as f:\n",
    "    pickle.dump(scaler, f)\n",
    "\n",
    "# Save the trained model\n",
    "with open('model.pkl', 'wb') as f:\n",
    "    pickle.dump(lin_reg, f)\n",
    "\n",
    "print(\"Scaler saved as 'scaler.pkl'\")\n",
    "print(\"Model saved as 'model.pkl'\")"
   ]
  },
  {
   "cell_type": "code",
   "id": "298a380a",
   "metadata": {
    "ExecuteTime": {
     "end_time": "2025-05-14T15:23:07.816849Z",
     "start_time": "2025-05-14T15:23:07.814673Z"
    }
   },
   "source": "",
   "outputs": [],
   "execution_count": null
  },
  {
   "metadata": {},
   "cell_type": "code",
   "outputs": [],
   "execution_count": null,
   "source": "",
   "id": "39bf060d062a1dd9"
  }
 ],
 "metadata": {
  "kernelspec": {
   "display_name": "Python 3",
   "language": "python",
   "name": "python3"
  },
  "language_info": {
   "codemirror_mode": {
    "name": "ipython",
    "version": 2
   },
   "file_extension": ".py",
   "mimetype": "text/x-python",
   "name": "python",
   "nbconvert_exporter": "python",
   "pygments_lexer": "ipython2",
   "version": "2.7.6"
  }
 },
 "nbformat": 4,
 "nbformat_minor": 5
}
